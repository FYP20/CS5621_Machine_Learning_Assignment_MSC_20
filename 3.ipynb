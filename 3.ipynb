{
 "cells": [
  {
   "cell_type": "markdown",
   "metadata": {},
   "source": [
    "## Improved Model "
   ]
  },
  {
   "cell_type": "code",
   "execution_count": 1,
   "metadata": {},
   "outputs": [
    {
     "name": "stderr",
     "output_type": "stream",
     "text": [
      "Using TensorFlow backend.\n"
     ]
    }
   ],
   "source": [
    "# Import libraries\n",
    "\n",
    "import warnings\n",
    "warnings.filterwarnings('ignore')\n",
    "\n",
    "from keras import models, layers\n",
    "from keras.datasets import mnist\n",
    "from keras.utils import to_categorical\n",
    "import matplotlib.pyplot as plt\n",
    "import numpy as np"
   ]
  },
  {
   "cell_type": "code",
   "execution_count": 2,
   "metadata": {},
   "outputs": [],
   "source": [
    "# load MNIST dataset\n",
    "\n",
    "(train_images, train_labels), (test_images, test_labels) = mnist.load_data()"
   ]
  },
  {
   "cell_type": "code",
   "execution_count": 3,
   "metadata": {},
   "outputs": [
    {
     "data": {
      "text/plain": [
       "60000"
      ]
     },
     "execution_count": 3,
     "metadata": {},
     "output_type": "execute_result"
    }
   ],
   "source": [
    "len(train_images)"
   ]
  },
  {
   "cell_type": "code",
   "execution_count": 4,
   "metadata": {},
   "outputs": [],
   "source": [
    "# rescale pixel values from range [0, 255] to [0, 1]\n",
    "rescaled_train_images= train_images.astype('float32') / 255. \n",
    "rescaled_test_images= test_images.astype('float32') / 255.\n",
    "\n",
    "# reshape for tenserflow backend\n",
    "reshaped_train_images = rescaled_train_images.reshape((len(train_images), 28, 28, 1))\n",
    "reshaped_test_images = rescaled_test_images.reshape((len(test_images), 28, 28, 1))\n",
    "\n",
    "# converts a class vector (integers) to binary class matrix\n",
    "train_labels = to_categorical(train_labels)\n",
    "test_labels = to_categorical(test_labels)"
   ]
  },
  {
   "cell_type": "code",
   "execution_count": 5,
   "metadata": {},
   "outputs": [
    {
     "data": {
      "image/png": "[encoded data removed]",
      "text/plain": [
       "<Figure size 720x720 with 10 Axes>"
      ]
     },
     "metadata": {
      "needs_background": "light"
     },
     "output_type": "display_data"
    }
   ],
   "source": [
    "# show sample train images without noise\n",
    "_, ax = plt.subplots(1, 10, figsize=(10,10))\n",
    "\n",
    "for i in range(0, 10):\n",
    "    ax[i].axis('off')\n",
    "    ax[i].imshow(reshaped_train_images[i].reshape(28,28), cmap=plt.cm.binary)"
   ]
  },
  {
   "cell_type": "code",
   "execution_count": 6,
   "metadata": {},
   "outputs": [],
   "source": [
    "# add noise to training and test dataset\n",
    "\n",
    "noise_factor = 0.5\n",
    "\n",
    "train_images_noisy = reshaped_train_images + noise_factor*np.random.normal(loc=0.0, scale=1.0, size=reshaped_train_images.shape)\n",
    "test_images_noisy = reshaped_test_images + noise_factor*np.random.normal(loc=0.0, scale=1.0, size=reshaped_test_images.shape)\n",
    "train_images_noisy = np.clip(train_images_noisy, 0., 1.)\n",
    "test_images_noisy = np.clip(test_images_noisy, 0., 1.)"
   ]
  },
  {
   "cell_type": "code",
   "execution_count": 7,
   "metadata": {},
   "outputs": [
    {
     "data": {
      "image/png": "[encoded data removed]",
      "text/plain": [
       "<Figure size 720x720 with 10 Axes>"
      ]
     },
     "metadata": {
      "needs_background": "light"
     },
     "output_type": "display_data"
    }
   ],
   "source": [
    "# show sample train images with noise\n",
    "_, ax = plt.subplots(1, 10, figsize=(10,10))\n",
    "\n",
    "for i in range(0, 10):\n",
    "    ax[i].axis('off')\n",
    "    ax[i].imshow(train_images_noisy[i].reshape(28,28), cmap=plt.cm.binary)"
   ]
  },
  {
   "cell_type": "markdown",
   "metadata": {},
   "source": [
    "## Adding Denoising Convolutional Autoencoder"
   ]
  },
  {
   "cell_type": "code",
   "execution_count": 8,
   "metadata": {},
   "outputs": [
    {
     "name": "stdout",
     "output_type": "stream",
     "text": [
      "WARNING:tensorflow:From /home/dinesh/.local/lib/python3.6/site-packages/keras/backend/tensorflow_backend.py:4070: The name tf.nn.max_pool is deprecated. Please use tf.nn.max_pool2d instead.\n",
      "\n"
     ]
    }
   ],
   "source": [
    "from keras.layers import Input, Dense, Conv2D, MaxPooling2D, UpSampling2D\n",
    "from keras.models import Model\n",
    "from keras import backend as K\n",
    "\n",
    "input_img = Input(shape=(28, 28, 1))\n",
    "\n",
    "# encoder\n",
    "\n",
    "x = Conv2D(32, (3, 3), activation='relu', padding='same')(input_img)\n",
    "x = MaxPooling2D((2, 2), padding='same')(x)\n",
    "x = Conv2D(8, (3, 3), activation='relu', padding='same')(x)\n",
    "x = MaxPooling2D((2, 2), padding='same')(x)\n",
    "x = Conv2D(8, (3, 3), activation='relu', padding='same')(x)\n",
    "encoded = MaxPooling2D((2, 2), padding='same')(x)\n",
    "\n",
    "# decoder\n",
    "\n",
    "x = Conv2D(8, (3, 3), activation='relu', padding='same')(encoded)\n",
    "x = UpSampling2D((2, 2))(x)\n",
    "x = Conv2D(8, (3, 3), activation='relu', padding='same')(x)\n",
    "x = UpSampling2D((2, 2))(x)\n",
    "x = Conv2D(32, (3, 3), activation='relu')(x)\n",
    "x = UpSampling2D((2, 2))(x)\n",
    "decoded = Conv2D(1, (3, 3), activation='relu', padding='same')(x)\n",
    "\n",
    "autoencoder = Model(input_img, decoded)\n",
    "autoencoder.compile(optimizer='adam', loss='mean_squared_error')"
   ]
  },
  {
   "cell_type": "code",
   "execution_count": 9,
   "metadata": {},
   "outputs": [
    {
     "name": "stdout",
     "output_type": "stream",
     "text": [
      "WARNING:tensorflow:From /home/dinesh/.local/lib/python3.6/site-packages/keras/backend/tensorflow_backend.py:422: The name tf.global_variables is deprecated. Please use tf.compat.v1.global_variables instead.\n",
      "\n",
      "Train on 60000 samples, validate on 10000 samples\n",
      "Epoch 1/50\n",
      "60000/60000 [==============================] - 48s 792us/step - loss: 0.0520 - val_loss: 0.0387\n",
      "Epoch 2/50\n",
      "60000/60000 [==============================] - 50s 827us/step - loss: 0.0354 - val_loss: 0.0325\n",
      "Epoch 3/50\n",
      "60000/60000 [==============================] - 50s 835us/step - loss: 0.0315 - val_loss: 0.0303\n",
      "Epoch 4/50\n",
      "60000/60000 [==============================] - 50s 839us/step - loss: 0.0293 - val_loss: 0.0282\n",
      "Epoch 5/50\n",
      "60000/60000 [==============================] - 52s 871us/step - loss: 0.0279 - val_loss: 0.0271\n",
      "Epoch 6/50\n",
      "60000/60000 [==============================] - 51s 843us/step - loss: 0.0270 - val_loss: 0.0263\n",
      "Epoch 7/50\n",
      "60000/60000 [==============================] - 51s 850us/step - loss: 0.0262 - val_loss: 0.0256\n",
      "Epoch 8/50\n",
      "60000/60000 [==============================] - 52s 861us/step - loss: 0.0257 - val_loss: 0.0255\n",
      "Epoch 9/50\n",
      "60000/60000 [==============================] - 52s 860us/step - loss: 0.0252 - val_loss: 0.0247\n",
      "Epoch 10/50\n",
      "60000/60000 [==============================] - 51s 854us/step - loss: 0.0249 - val_loss: 0.0244\n",
      "Epoch 11/50\n",
      "60000/60000 [==============================] - 52s 860us/step - loss: 0.0245 - val_loss: 0.0241\n",
      "Epoch 12/50\n",
      "60000/60000 [==============================] - 51s 857us/step - loss: 0.0243 - val_loss: 0.0242\n",
      "Epoch 13/50\n",
      "60000/60000 [==============================] - 51s 843us/step - loss: 0.0240 - val_loss: 0.0235\n",
      "Epoch 14/50\n",
      "60000/60000 [==============================] - 51s 848us/step - loss: 0.0238 - val_loss: 0.0236\n",
      "Epoch 15/50\n",
      "60000/60000 [==============================] - 48s 808us/step - loss: 0.0236 - val_loss: 0.0233\n",
      "Epoch 16/50\n",
      "60000/60000 [==============================] - 49s 811us/step - loss: 0.0234 - val_loss: 0.0230\n",
      "Epoch 17/50\n",
      "60000/60000 [==============================] - 49s 810us/step - loss: 0.0232 - val_loss: 0.0232\n",
      "Epoch 18/50\n",
      "60000/60000 [==============================] - 49s 811us/step - loss: 0.0230 - val_loss: 0.0227\n",
      "Epoch 19/50\n",
      "60000/60000 [==============================] - 49s 812us/step - loss: 0.0230 - val_loss: 0.0225\n",
      "Epoch 20/50\n",
      "60000/60000 [==============================] - 49s 816us/step - loss: 0.0228 - val_loss: 0.0225\n",
      "Epoch 21/50\n",
      "60000/60000 [==============================] - 48s 798us/step - loss: 0.0226 - val_loss: 0.0224\n",
      "Epoch 22/50\n",
      "60000/60000 [==============================] - 48s 798us/step - loss: 0.0226 - val_loss: 0.0222\n",
      "Epoch 23/50\n",
      "60000/60000 [==============================] - 48s 801us/step - loss: 0.0224 - val_loss: 0.0220\n",
      "Epoch 24/50\n",
      "60000/60000 [==============================] - 48s 795us/step - loss: 0.0224 - val_loss: 0.0220\n",
      "Epoch 25/50\n",
      "60000/60000 [==============================] - 48s 794us/step - loss: 0.0222 - val_loss: 0.0221\n",
      "Epoch 26/50\n",
      "60000/60000 [==============================] - 48s 798us/step - loss: 0.0221 - val_loss: 0.0222\n",
      "Epoch 27/50\n",
      "60000/60000 [==============================] - 51s 844us/step - loss: 0.0220 - val_loss: 0.0218\n",
      "Epoch 28/50\n",
      "60000/60000 [==============================] - 52s 862us/step - loss: 0.0220 - val_loss: 0.0216\n",
      "Epoch 29/50\n",
      "60000/60000 [==============================] - 54s 894us/step - loss: 0.0219 - val_loss: 0.0214\n",
      "Epoch 30/50\n",
      "60000/60000 [==============================] - 53s 888us/step - loss: 0.0218 - val_loss: 0.0217\n",
      "Epoch 31/50\n",
      "60000/60000 [==============================] - 54s 897us/step - loss: 0.0218 - val_loss: 0.0217\n",
      "Epoch 32/50\n",
      "60000/60000 [==============================] - 54s 893us/step - loss: 0.0217 - val_loss: 0.0212\n",
      "Epoch 33/50\n",
      "60000/60000 [==============================] - 53s 885us/step - loss: 0.0215 - val_loss: 0.0211\n",
      "Epoch 34/50\n",
      "60000/60000 [==============================] - 53s 886us/step - loss: 0.0215 - val_loss: 0.0211\n",
      "Epoch 35/50\n",
      "60000/60000 [==============================] - 53s 883us/step - loss: 0.0215 - val_loss: 0.0210\n",
      "Epoch 36/50\n",
      "60000/60000 [==============================] - 53s 881us/step - loss: 0.0213 - val_loss: 0.0213\n",
      "Epoch 37/50\n",
      "60000/60000 [==============================] - 53s 885us/step - loss: 0.0214 - val_loss: 0.0210\n",
      "Epoch 38/50\n",
      "60000/60000 [==============================] - 53s 884us/step - loss: 0.0212 - val_loss: 0.0209\n",
      "Epoch 39/50\n",
      "60000/60000 [==============================] - 53s 887us/step - loss: 0.0212 - val_loss: 0.0209\n",
      "Epoch 40/50\n",
      "60000/60000 [==============================] - 53s 888us/step - loss: 0.0212 - val_loss: 0.0208\n",
      "Epoch 41/50\n",
      "60000/60000 [==============================] - 53s 884us/step - loss: 0.0211 - val_loss: 0.0214\n",
      "Epoch 42/50\n",
      "60000/60000 [==============================] - 53s 886us/step - loss: 0.0210 - val_loss: 0.0206\n",
      "Epoch 43/50\n",
      "60000/60000 [==============================] - 54s 894us/step - loss: 0.0211 - val_loss: 0.0208\n",
      "Epoch 44/50\n",
      "60000/60000 [==============================] - 53s 889us/step - loss: 0.0210 - val_loss: 0.0206\n",
      "Epoch 45/50\n",
      "60000/60000 [==============================] - 53s 885us/step - loss: 0.0209 - val_loss: 0.0205\n",
      "Epoch 46/50\n",
      "60000/60000 [==============================] - 53s 891us/step - loss: 0.0210 - val_loss: 0.0207\n",
      "Epoch 47/50\n",
      "60000/60000 [==============================] - 53s 889us/step - loss: 0.0208 - val_loss: 0.0210\n",
      "Epoch 48/50\n",
      "60000/60000 [==============================] - 54s 894us/step - loss: 0.0208 - val_loss: 0.0205\n",
      "Epoch 49/50\n",
      "60000/60000 [==============================] - 54s 892us/step - loss: 0.0208 - val_loss: 0.0205\n",
      "Epoch 50/50\n",
      "60000/60000 [==============================] - 54s 896us/step - loss: 0.0208 - val_loss: 0.0203\n"
     ]
    },
    {
     "data": {
      "text/plain": [
       "<keras.callbacks.callbacks.History at 0x7f878ea5d240>"
      ]
     },
     "execution_count": 9,
     "metadata": {},
     "output_type": "execute_result"
    }
   ],
   "source": [
    "# Train the autoencoder model\n",
    "autoencoder.fit(train_images_noisy, reshaped_train_images,\n",
    "                epochs=50,\n",
    "                batch_size=256,\n",
    "                shuffle=True,\n",
    "                validation_data=(test_images_noisy,reshaped_test_images))"
   ]
  },
  {
   "cell_type": "code",
   "execution_count": 10,
   "metadata": {},
   "outputs": [],
   "source": [
    "# get decoded training and test images\n",
    "\n",
    "decoded_train_imgs = autoencoder.predict(train_images_noisy)\n",
    "decoded_test_imgs = autoencoder.predict(test_images_noisy)"
   ]
  },
  {
   "cell_type": "code",
   "execution_count": 11,
   "metadata": {},
   "outputs": [
    {
     "data": {
      "image/png": "[encoded data removed]",
      "text/plain": [
       "<Figure size 720x216 with 30 Axes>"
      ]
     },
     "metadata": {
      "needs_background": "light"
     },
     "output_type": "display_data"
    }
   ],
   "source": [
    "# show sample train images without noise, train images with noice and decoded train images\n",
    "_, ax = plt.subplots(3, 10, figsize=(10,3))\n",
    "\n",
    "for i in range(0, 10):\n",
    "    ax[0,i].axis('off')\n",
    "    ax[0,i].imshow(train_images[i].reshape(28,28), cmap=plt.cm.binary)\n",
    "    ax[1,i].axis('off')\n",
    "    ax[1,i].imshow(train_images_noisy[i].reshape(28,28), cmap=plt.cm.binary)\n",
    "    ax[2,i].axis('off')\n",
    "    ax[2,i].imshow(decoded_train_imgs[i].reshape(28,28), cmap=plt.cm.binary)"
   ]
  },
  {
   "cell_type": "code",
   "execution_count": 12,
   "metadata": {},
   "outputs": [],
   "source": [
    "# get test set\n",
    "final_test_labels = test_labels\n",
    "final_test_images = decoded_test_imgs\n",
    "\n",
    "# get validation set\n",
    "validation_images = decoded_train_imgs[50000:]\n",
    "validation_labels = train_labels[50000:]\n",
    "\n",
    "# get train set\n",
    "final_train_images = decoded_train_imgs[:50000]\n",
    "final_train_labels = train_labels[:50000]"
   ]
  },
  {
   "cell_type": "code",
   "execution_count": 13,
   "metadata": {},
   "outputs": [
    {
     "data": {
      "image/png": "[encoded data removed]",
      "text/plain": [
       "<Figure size 720x216 with 20 Axes>"
      ]
     },
     "metadata": {
      "needs_background": "light"
     },
     "output_type": "display_data"
    }
   ],
   "source": [
    "# show sample final_train_images and final_test_images\n",
    "_, ax = plt.subplots(2, 10, figsize=(10,3))\n",
    "\n",
    "for i in range(0, 10):\n",
    "    ax[0,i].axis('off')\n",
    "    ax[0,i].imshow(final_train_images[i].reshape(28,28), cmap=plt.cm.binary)\n",
    "    ax[1,i].axis('off')\n",
    "    ax[1,i].imshow(final_test_images[i].reshape(28,28), cmap=plt.cm.binary)"
   ]
  },
  {
   "cell_type": "code",
   "execution_count": 14,
   "metadata": {},
   "outputs": [],
   "source": [
    "# function to build a CNN model\n",
    "\n",
    "def create_model():\n",
    "    # Convolutional model\n",
    "    model = models.Sequential()\n",
    "\n",
    "    # Conv Layer 1\n",
    "    model.add(layers.Conv2D(32, (3, 3), activation='relu', input_shape=(28, 28, 1)))\n",
    "    \n",
    "    # Pool Layer 1\n",
    "    model.add(layers.MaxPooling2D((2, 2)))\n",
    "\n",
    "    # Conv Layer 2\n",
    "    model.add(layers.Conv2D(64, (3, 3), activation='relu'))\n",
    "    \n",
    "    # Pool Layer 2\n",
    "    model.add(layers.MaxPooling2D((2, 2)))\n",
    "\n",
    "    # Conv Layer 3\n",
    "    model.add(layers.Conv2D(64, (3, 3), activation='relu'))\n",
    "    \n",
    "    # Flatten Layer 1\n",
    "    model.add(layers.Flatten())\n",
    "\n",
    "    # Fully-connected layer 1\n",
    "    model.add(layers.Dense(64, activation='relu'))\n",
    "    \n",
    "    # Fully-connected layer 2\n",
    "    model.add(layers.Dense(10, activation='softmax'))\n",
    "\n",
    "    model.compile(optimizer='rmsprop', loss='categorical_crossentropy', metrics=['accuracy'])\n",
    "    \n",
    "    return model"
   ]
  },
  {
   "cell_type": "code",
   "execution_count": 15,
   "metadata": {},
   "outputs": [],
   "source": [
    "# build a model\n",
    "model = create_model()"
   ]
  },
  {
   "cell_type": "code",
   "execution_count": 18,
   "metadata": {},
   "outputs": [
    {
     "name": "stdout",
     "output_type": "stream",
     "text": [
      "Train on 50000 samples, validate on 10000 samples\n",
      "Epoch 1/10\n",
      "50000/50000 [==============================] - 13s 262us/step - loss: 0.1480 - accuracy: 0.9506 - val_loss: 0.1862 - val_accuracy: 0.9409\n",
      "Epoch 2/10\n",
      "50000/50000 [==============================] - 15s 309us/step - loss: 0.1355 - accuracy: 0.9544 - val_loss: 0.1899 - val_accuracy: 0.9415\n",
      "Epoch 3/10\n",
      "50000/50000 [==============================] - 16s 312us/step - loss: 0.1271 - accuracy: 0.9570 - val_loss: 0.1981 - val_accuracy: 0.9409\n",
      "Epoch 4/10\n",
      "50000/50000 [==============================] - 16s 311us/step - loss: 0.1176 - accuracy: 0.9596 - val_loss: 0.2094 - val_accuracy: 0.9422\n",
      "Epoch 5/10\n",
      "50000/50000 [==============================] - 16s 310us/step - loss: 0.1079 - accuracy: 0.9633 - val_loss: 0.1928 - val_accuracy: 0.9457\n",
      "Epoch 6/10\n",
      "50000/50000 [==============================] - 16s 311us/step - loss: 0.0990 - accuracy: 0.9673 - val_loss: 0.2059 - val_accuracy: 0.9406\n",
      "Epoch 7/10\n",
      "50000/50000 [==============================] - 16s 311us/step - loss: 0.0920 - accuracy: 0.9684 - val_loss: 0.1934 - val_accuracy: 0.9433\n",
      "Epoch 8/10\n",
      "50000/50000 [==============================] - 16s 311us/step - loss: 0.0855 - accuracy: 0.9716 - val_loss: 0.2042 - val_accuracy: 0.9421\n",
      "Epoch 9/10\n",
      "50000/50000 [==============================] - 16s 314us/step - loss: 0.0788 - accuracy: 0.9737 - val_loss: 0.2236 - val_accuracy: 0.9389\n",
      "Epoch 10/10\n",
      "50000/50000 [==============================] - 16s 314us/step - loss: 0.0712 - accuracy: 0.9758 - val_loss: 0.2163 - val_accuracy: 0.9403\n"
     ]
    },
    {
     "data": {
      "text/plain": [
       "<keras.callbacks.callbacks.History at 0x7f875c81bfd0>"
      ]
     },
     "execution_count": 18,
     "metadata": {},
     "output_type": "execute_result"
    }
   ],
   "source": [
    "# Train the model\n",
    "model.fit(final_train_images, final_train_labels, epochs=10, batch_size=64, validation_data=(validation_images, validation_labels))"
   ]
  },
  {
   "cell_type": "code",
   "execution_count": 19,
   "metadata": {},
   "outputs": [
    {
     "name": "stdout",
     "output_type": "stream",
     "text": [
      "10000/10000 [==============================] - 1s 79us/step\n",
      "Accuracy: 0.940500020980835\n",
      "Loss:  0.2148573961596936\n"
     ]
    }
   ],
   "source": [
    "# get accuracy against test set\n",
    "\n",
    "test_loss, test_acc = model.evaluate(final_test_images, final_test_labels, verbose=1)\n",
    "print('Accuracy:', test_acc)\n",
    "print('Loss: ', test_loss)"
   ]
  },
  {
   "cell_type": "code",
   "execution_count": null,
   "metadata": {},
   "outputs": [],
   "source": []
  }
 ],
 "metadata": {
  "kernelspec": {
   "display_name": "Python 3.6.9 64-bit",
   "language": "python",
   "name": "python36964bit20e979e0968c49ce9e32649196fb145f"
  },
  "language_info": {
   "codemirror_mode": {
    "name": "ipython",
    "version": 3
   },
   "file_extension": ".py",
   "mimetype": "text/x-python",
   "name": "python",
   "nbconvert_exporter": "python",
   "pygments_lexer": "ipython3",
   "version": "3.6.9"
  }
 },
 "nbformat": 4,
 "nbformat_minor": 4
}
