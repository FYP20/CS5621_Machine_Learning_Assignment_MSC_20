{
 "cells": [
  {
   "cell_type": "markdown",
   "metadata": {},
   "source": [
    "## Add random noise"
   ]
  },
  {
   "cell_type": "code",
   "execution_count": 1,
   "metadata": {},
   "outputs": [
    {
     "name": "stderr",
     "output_type": "stream",
     "text": [
      "Using TensorFlow backend.\n"
     ]
    }
   ],
   "source": [
    "# Import libraries\n",
    "\n",
    "import warnings\n",
    "warnings.filterwarnings('ignore')\n",
    "\n",
    "from keras import models, layers\n",
    "from keras.datasets import mnist\n",
    "from keras.utils import to_categorical\n",
    "import matplotlib.pyplot as plt\n",
    "import numpy as np"
   ]
  },
  {
   "cell_type": "code",
   "execution_count": 180,
   "metadata": {},
   "outputs": [],
   "source": [
    "# load MNIST dataset\n",
    "\n",
    "(train_images, train_labels), (test_images, test_labels) = mnist.load_data()"
   ]
  },
  {
   "cell_type": "code",
   "execution_count": 181,
   "metadata": {},
   "outputs": [
    {
     "data": {
      "text/plain": [
       "(60000, 28, 28)"
      ]
     },
     "execution_count": 181,
     "metadata": {},
     "output_type": "execute_result"
    }
   ],
   "source": [
    "train_images.shape"
   ]
  },
  {
   "cell_type": "code",
   "execution_count": 182,
   "metadata": {},
   "outputs": [],
   "source": [
    "# reshape for tenserflow backend\n",
    "reshaped_train_images = train_images.reshape((60000, 28, 28, 1))\n",
    "reshaped_test_images = test_images.reshape((10000, 28, 28, 1))\n",
    "\n",
    "# rescale pixel values from range [0, 255] to [0, 1]\n",
    "rescaled_train_images= reshaped_train_images.astype('float32') / 255. \n",
    "rescaled_test_images= reshaped_test_images.astype('float32') / 255.\n",
    "\n",
    "# converts a class vector (integers) to binary class matrix\n",
    "train_labels = to_categorical(train_labels)\n",
    "test_labels = to_categorical(test_labels)\n"
   ]
  },
  {
   "cell_type": "code",
   "execution_count": 183,
   "metadata": {},
   "outputs": [
    {
     "data": {
      "image/png": "[encoded data removed]",
      "text/plain": [
       "<Figure size 720x720 with 10 Axes>"
      ]
     },
     "metadata": {
      "needs_background": "light"
     },
     "output_type": "display_data"
    }
   ],
   "source": [
    "# show sample train images without noise\n",
    "_, ax = plt.subplots(1, 10, figsize=(10,10))\n",
    "\n",
    "for i in range(0, 10):\n",
    "    ax[i].axis('off')\n",
    "    ax[i].imshow(rescaled_train_images[i].reshape(28,28), cmap=plt.cm.binary)"
   ]
  },
  {
   "cell_type": "code",
   "execution_count": 212,
   "metadata": {},
   "outputs": [],
   "source": [
    "noise_factor = 0.5\n",
    "\n",
    "train_images_noisy = rescaled_train_images + noise_factor*np.random.normal(loc=0.0, scale=1.0, size=rescaled_train_images.shape)\n",
    "test_images_noisy = rescaled_test_images + noise_factor*np.random.normal(loc=0.0, scale=1.0, size=rescaled_test_images.shape)\n",
    "train_images_noisy = np.clip(train_images_noisy, 0., 1.)\n",
    "test_images_noisy = np.clip(test_images_noisy, 0., 1.)"
   ]
  },
  {
   "cell_type": "code",
   "execution_count": 213,
   "metadata": {},
   "outputs": [],
   "source": [
    "# get test set\n",
    "final_test_labels = test_labels\n",
    "final_test_images = test_images_noisy\n",
    "\n",
    "# get validation set\n",
    "validation_images = train_images_noisy[50000:]\n",
    "validation_labels = train_labels[50000:]\n",
    "\n",
    "# get train set\n",
    "final_train_images = train_images_noisy[:50000]\n",
    "final_train_labels = train_labels[:50000]"
   ]
  },
  {
   "cell_type": "code",
   "execution_count": 214,
   "metadata": {},
   "outputs": [
    {
     "data": {
      "image/png": "[encoded data removed]",
      "text/plain": [
       "<Figure size 720x720 with 10 Axes>"
      ]
     },
     "metadata": {
      "needs_background": "light"
     },
     "output_type": "display_data"
    }
   ],
   "source": [
    "# show sample train images with noise\n",
    "_, ax = plt.subplots(1, 10, figsize=(10,10))\n",
    "\n",
    "for i in range(0, 10):\n",
    "    ax[i].axis('off')\n",
    "    ax[i].imshow(final_train_images[i].reshape(28,28), cmap=plt.cm.binary)"
   ]
  },
  {
   "cell_type": "code",
   "execution_count": 215,
   "metadata": {},
   "outputs": [],
   "source": [
    "# function to build a CNN model\n",
    "\n",
    "def create_model():\n",
    "    # Convolutional model\n",
    "    model = models.Sequential()\n",
    "\n",
    "    # Conv Layer 1\n",
    "    model.add(layers.Conv2D(32, (3, 3), activation='relu', input_shape=(28, 28, 1)))\n",
    "    \n",
    "    # Pool Layer 1\n",
    "    model.add(layers.MaxPooling2D((2, 2)))\n",
    "\n",
    "    # Conv Layer 2\n",
    "    model.add(layers.Conv2D(64, (3, 3), activation='relu'))\n",
    "    \n",
    "    # Pool Layer 2\n",
    "    model.add(layers.MaxPooling2D((2, 2)))\n",
    "\n",
    "    # Conv Layer 3\n",
    "    model.add(layers.Conv2D(64, (3, 3), activation='relu'))\n",
    "    \n",
    "    # Flatten layer\n",
    "    model.add(layers.Flatten())\n",
    "\n",
    "    # Fully-connected layer 1\n",
    "    model.add(layers.Dense(64, activation='relu'))\n",
    "    \n",
    "    # Fully-connected layer 2\n",
    "    model.add(layers.Dense(10, activation='softmax'))\n",
    "\n",
    "    model.compile(optimizer='rmsprop', loss='categorical_crossentropy', metrics=['accuracy'])\n",
    "    \n",
    "    return model"
   ]
  },
  {
   "cell_type": "code",
   "execution_count": 216,
   "metadata": {},
   "outputs": [],
   "source": [
    "# build a model\n",
    "model = create_model()"
   ]
  },
  {
   "cell_type": "code",
   "execution_count": 217,
   "metadata": {
    "scrolled": true
   },
   "outputs": [
    {
     "name": "stdout",
     "output_type": "stream",
     "text": [
      "Train on 50000 samples, validate on 10000 samples\n",
      "Epoch 1/5\n",
      "50000/50000 [==============================] - 30s 605us/step - loss: 0.4127 - accuracy: 0.8657 - val_loss: 0.1604 - val_accuracy: 0.9487\n",
      "Epoch 2/5\n",
      "50000/50000 [==============================] - 29s 579us/step - loss: 0.1452 - accuracy: 0.9534 - val_loss: 0.1152 - val_accuracy: 0.9629\n",
      "Epoch 3/5\n",
      "50000/50000 [==============================] - 30s 591us/step - loss: 0.1051 - accuracy: 0.9663 - val_loss: 0.1000 - val_accuracy: 0.9689\n",
      "Epoch 4/5\n",
      "50000/50000 [==============================] - 39s 781us/step - loss: 0.0810 - accuracy: 0.9737 - val_loss: 0.0949 - val_accuracy: 0.9720\n",
      "Epoch 5/5\n",
      "50000/50000 [==============================] - 42s 841us/step - loss: 0.0671 - accuracy: 0.9778 - val_loss: 0.0996 - val_accuracy: 0.9712\n"
     ]
    },
    {
     "data": {
      "text/plain": [
       "<keras.callbacks.callbacks.History at 0x7f308f4caf60>"
      ]
     },
     "execution_count": 217,
     "metadata": {},
     "output_type": "execute_result"
    }
   ],
   "source": [
    "# Train the model\n",
    "model.fit(final_train_images, final_train_labels, epochs=5, batch_size=64, validation_data=(validation_images, validation_labels))"
   ]
  },
  {
   "cell_type": "code",
   "execution_count": 218,
   "metadata": {},
   "outputs": [
    {
     "name": "stdout",
     "output_type": "stream",
     "text": [
      "10000/10000 [==============================] - 3s 295us/step\n",
      "Accuracy: 0.9707000255584717\n",
      "Loss:  0.09560860593945254\n"
     ]
    }
   ],
   "source": [
    "# Accuracy against test set\n",
    "\n",
    "test_loss, test_acc = model.evaluate(final_test_images, final_test_labels, verbose=1)\n",
    "print('Accuracy:', test_acc)\n",
    "print('Loss: ', test_loss)"
   ]
  },
  {
   "cell_type": "code",
   "execution_count": null,
   "metadata": {},
   "outputs": [],
   "source": []
  }
 ],
 "metadata": {
  "kernelspec": {
   "display_name": "Python 3.6.9 64-bit",
   "language": "python",
   "name": "python36964bit20e979e0968c49ce9e32649196fb145f"
  },
  "language_info": {
   "codemirror_mode": {
    "name": "ipython",
    "version": 3
   },
   "file_extension": ".py",
   "mimetype": "text/x-python",
   "name": "python",
   "nbconvert_exporter": "python",
   "pygments_lexer": "ipython3",
   "version": "3.6.9"
  }
 },
 "nbformat": 4,
 "nbformat_minor": 4
}
