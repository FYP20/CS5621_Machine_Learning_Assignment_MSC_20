{
 "cells": [
  {
   "cell_type": "code",
   "execution_count": 58,
   "metadata": {},
   "outputs": [],
   "source": [
    "# Import libraries\n",
    "\n",
    "import warnings\n",
    "warnings.filterwarnings('ignore')\n",
    "\n",
    "from keras import models, layers\n",
    "from keras.datasets import mnist\n",
    "from keras.utils import to_categorical\n",
    "import matplotlib.pyplot as plt\n",
    "import numpy as np"
   ]
  },
  {
   "cell_type": "code",
   "execution_count": 71,
   "metadata": {},
   "outputs": [],
   "source": [
    "# load MNIST dataset\n",
    "\n",
    "(train_images, train_labels), (test_images, test_labels) = mnist.load_data()"
   ]
  },
  {
   "cell_type": "code",
   "execution_count": 60,
   "metadata": {},
   "outputs": [
    {
     "data": {
      "text/plain": [
       "((60000, 28, 28), (10000, 28, 28))"
      ]
     },
     "execution_count": 60,
     "metadata": {},
     "output_type": "execute_result"
    }
   ],
   "source": [
    "# train and test sizes\n",
    "\n",
    "train_images.shape, test_images.shape"
   ]
  },
  {
   "cell_type": "code",
   "execution_count": 61,
   "metadata": {},
   "outputs": [
    {
     "data": {
      "image/png": "[encoded data removed]",
      "text/plain": [
       "<Figure size 720x720 with 10 Axes>"
      ]
     },
     "metadata": {
      "needs_background": "light"
     },
     "output_type": "display_data"
    }
   ],
   "source": [
    "# show sample train images\n",
    "_, ax = plt.subplots(1, 10, figsize=(10,10))\n",
    "\n",
    "for i in range(0, 10):\n",
    "    ax[i].axis('off')\n",
    "    ax[i].imshow(train_images[i], cmap=plt.cm.binary)"
   ]
  },
  {
   "cell_type": "code",
   "execution_count": 74,
   "metadata": {},
   "outputs": [],
   "source": [
    "# reshape for tenserflow backend\n",
    "reshaped_train_images = train_images.reshape((60000, 28, 28, 1))\n",
    "reshaped_test_images = test_images.reshape((10000, 28, 28, 1))\n",
    "\n",
    "# rescale pixel values from range [0, 255] to [0, 1]\n",
    "rescaled_train_images= reshaped_train_images.astype('float32') / 255 \n",
    "rescaled_test_images= reshaped_test_images.astype('float32') / 255\n",
    "\n",
    "# converts a class vector (integers) to binary class matrix\n",
    "train_labels = to_categorical(train_labels)\n",
    "test_labels = to_categorical(test_labels)\n",
    "\n",
    "# get test set\n",
    "final_test_labels = test_labels\n",
    "final_test_images = rescaled_test_images\n",
    "\n",
    "# get validation set\n",
    "validation_images = rescaled_train_images[50000:]\n",
    "validation_labels = train_labels[50000:]\n",
    "\n",
    "# get train set\n",
    "final_train_images = rescaled_train_images[:50000]\n",
    "final_train_labels = train_labels[:50000]"
   ]
  },
  {
   "cell_type": "code",
   "execution_count": 63,
   "metadata": {},
   "outputs": [],
   "source": [
    "# function to build a CNN model\n",
    "\n",
    "def create_model():\n",
    "    # Convolutional model\n",
    "    model = models.Sequential()\n",
    "\n",
    "    # Conv Layer 1\n",
    "    model.add(layers.Conv2D(32, (3, 3), activation='relu', input_shape=(28, 28, 1)))\n",
    "    \n",
    "    # Pool Layer 1\n",
    "    model.add(layers.MaxPooling2D((2, 2)))\n",
    "\n",
    "    # Conv Layer 2\n",
    "    model.add(layers.Conv2D(64, (3, 3), activation='relu'))\n",
    "    \n",
    "    # Pool Layer 2\n",
    "    model.add(layers.MaxPooling2D((2, 2)))\n",
    "\n",
    "    # Conv Layer 3\n",
    "    model.add(layers.Conv2D(64, (3, 3), activation='relu'))\n",
    "    \n",
    "    # Flatten Layer 1\n",
    "    model.add(layers.Flatten())\n",
    "\n",
    "    # Fully-connected layer 1\n",
    "    model.add(layers.Dense(64, activation='relu'))\n",
    "    \n",
    "    # Fully-connected layer 2\n",
    "    model.add(layers.Dense(10, activation='softmax'))\n",
    "\n",
    "    model.compile(optimizer='rmsprop', loss='categorical_crossentropy', metrics=['accuracy'])\n",
    "    \n",
    "    return model"
   ]
  },
  {
   "cell_type": "code",
   "execution_count": 64,
   "metadata": {},
   "outputs": [],
   "source": [
    "# build a model\n",
    "model = create_model()"
   ]
  },
  {
   "cell_type": "code",
   "execution_count": 65,
   "metadata": {},
   "outputs": [
    {
     "name": "stdout",
     "output_type": "stream",
     "text": [
      "Model: \"sequential_8\"\n",
      "_________________________________________________________________\n",
      "Layer (type)                 Output Shape              Param #   \n",
      "=================================================================\n",
      "conv2d_22 (Conv2D)           (None, 26, 26, 32)        320       \n",
      "_________________________________________________________________\n",
      "max_pooling2d_15 (MaxPooling (None, 13, 13, 32)        0         \n",
      "_________________________________________________________________\n",
      "conv2d_23 (Conv2D)           (None, 11, 11, 64)        18496     \n",
      "_________________________________________________________________\n",
      "max_pooling2d_16 (MaxPooling (None, 5, 5, 64)          0         \n",
      "_________________________________________________________________\n",
      "conv2d_24 (Conv2D)           (None, 3, 3, 64)          36928     \n",
      "_________________________________________________________________\n",
      "flatten_8 (Flatten)          (None, 576)               0         \n",
      "_________________________________________________________________\n",
      "dense_15 (Dense)             (None, 64)                36928     \n",
      "_________________________________________________________________\n",
      "dense_16 (Dense)             (None, 10)                650       \n",
      "=================================================================\n",
      "Total params: 93,322\n",
      "Trainable params: 93,322\n",
      "Non-trainable params: 0\n",
      "_________________________________________________________________\n"
     ]
    }
   ],
   "source": [
    "# get a summary of the model\n",
    "model.summary()"
   ]
  },
  {
   "cell_type": "code",
   "execution_count": 66,
   "metadata": {},
   "outputs": [
    {
     "name": "stdout",
     "output_type": "stream",
     "text": [
      "Train on 50000 samples, validate on 10000 samples\n",
      "Epoch 1/5\n",
      "50000/50000 [==============================] - 12s 233us/step - loss: 0.2013 - accuracy: 0.9359 - val_loss: 0.0669 - val_accuracy: 0.9829\n",
      "Epoch 2/5\n",
      "50000/50000 [==============================] - 14s 270us/step - loss: 0.0535 - accuracy: 0.9830 - val_loss: 0.1075 - val_accuracy: 0.9715\n",
      "Epoch 3/5\n",
      "50000/50000 [==============================] - 16s 317us/step - loss: 0.0365 - accuracy: 0.9888 - val_loss: 0.0516 - val_accuracy: 0.9843\n",
      "Epoch 4/5\n",
      "50000/50000 [==============================] - 14s 288us/step - loss: 0.0280 - accuracy: 0.9907 - val_loss: 0.0472 - val_accuracy: 0.9877\n",
      "Epoch 5/5\n",
      "50000/50000 [==============================] - 16s 316us/step - loss: 0.0215 - accuracy: 0.9931 - val_loss: 0.0385 - val_accuracy: 0.9901\n"
     ]
    },
    {
     "data": {
      "text/plain": [
       "<keras.callbacks.callbacks.History at 0x7f870b41a4a8>"
      ]
     },
     "execution_count": 66,
     "metadata": {},
     "output_type": "execute_result"
    }
   ],
   "source": [
    "# Train the model\n",
    "model.fit(final_train_images, final_train_labels, epochs=5, batch_size=64, validation_data=(validation_images, validation_labels))"
   ]
  },
  {
   "cell_type": "code",
   "execution_count": 67,
   "metadata": {},
   "outputs": [
    {
     "name": "stdout",
     "output_type": "stream",
     "text": [
      "10000/10000 [==============================] - 1s 80us/step\n",
      "Accuracy: 0.9900000095367432\n",
      "Loss:  0.030065474145036023\n"
     ]
    }
   ],
   "source": [
    "# Accuracy of the model against test set\n",
    "\n",
    "test_loss, test_acc = model.evaluate(final_test_images, final_test_labels, verbose=1)\n",
    "print('Accuracy:', test_acc)\n",
    "print('Loss: ', test_loss)"
   ]
  },
  {
   "cell_type": "code",
   "execution_count": null,
   "metadata": {},
   "outputs": [],
   "source": []
  }
 ],
 "metadata": {
  "kernelspec": {
   "display_name": "Python 3.6.9 64-bit",
   "language": "python",
   "name": "python36964bit20e979e0968c49ce9e32649196fb145f"
  },
  "language_info": {
   "codemirror_mode": {
    "name": "ipython",
    "version": 3
   },
   "file_extension": ".py",
   "mimetype": "text/x-python",
   "name": "python",
   "nbconvert_exporter": "python",
   "pygments_lexer": "ipython3",
   "version": "3.6.9"
  }
 },
 "nbformat": 4,
 "nbformat_minor": 4
}
